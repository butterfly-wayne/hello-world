{
 "cells": [
  {
   "cell_type": "code",
   "execution_count": null,
   "metadata": {},
   "outputs": [],
   "source": [
    "#Now we've extracted the text from a pdf, can we extract names and numbers?\n",
    "# nltk is a natural language processing toolkit, needs importing and downloading\n",
    "import nltk\n",
    "from nltk.corpus import stopwords\n",
    "#nltk.download('stopwords')"
   ]
  },
  {
   "cell_type": "code",
   "execution_count": null,
   "metadata": {},
   "outputs": [],
   "source": [
    "#Now to bring in stopwords, these are words that can be ignored\n",
    "stop=stopwords.words('english')"
   ]
  },
  {
   "cell_type": "code",
   "execution_count": null,
   "metadata": {},
   "outputs": [],
   "source": [
    "#Convert list of text extracting to a string, do some data quality, break up into sentences having removed stop words. \n",
    "\n",
    "doc_str=str(text_extract)\n",
    "doc_str=doc_str.replace(\"\\\\n\",\" \")\n",
    "doc_str=doc_str.replace(\"\\\\\",\" \")\n",
    "document=' '.join([i for i in doc_str.split() if i not in stop])\n",
    "#nltk.download('punkt')\n"
   ]
  },
  {
   "cell_type": "code",
   "execution_count": null,
   "metadata": {},
   "outputs": [],
   "source": [
    "#Then break sentences into words and tag with word type\n",
    "sentences = nltk.sent_tokenize(document)\n",
    "sentences=[nltk.word_tokenize(sent) for sent in sentences]\n",
    "#nltk.download('averaged_perceptron_tagger')\n",
    "sentences = [nltk.pos_tag(sent, tagset=None, lang='eng') for sent in sentences]"
   ]
  },
  {
   "cell_type": "code",
   "execution_count": null,
   "metadata": {},
   "outputs": [],
   "source": [
    "def extract_names(document):\n",
    "    names = []\n",
    "    sentences = ie_preprocess(document)\n",
    "    for tagged_sentence in sentences:\n",
    "        for chunk in nltk.ne_chunk(tagged_sentence):\n",
    "            if type(chunk) == nltk.tree.Tree:\n",
    "                if chunk.label() == 'PERSON':\n",
    "                    names.append(' '.join([c[0] for c in chunk]))\n",
    "    return names\n",
    "#nltk.download('maxent_ne_chunker')\n",
    "#.download('words')\n",
    "for tagged_sentence in sentences:\n",
    "    for chunk in nltk.ne_chunk(tagged_sentence):\n",
    "        if type(chunk)==nltk.tree.Tree:\n",
    "            if chunk.label() == 'PERSON':\n",
    "                print(chunk)"
   ]
  }
 ],
 "metadata": {
  "kernelspec": {
   "display_name": "Python 3",
   "language": "python",
   "name": "python3"
  },
  "language_info": {
   "codemirror_mode": {
    "name": "ipython",
    "version": 3
   },
   "file_extension": ".py",
   "mimetype": "text/x-python",
   "name": "python",
   "nbconvert_exporter": "python",
   "pygments_lexer": "ipython3",
   "version": "3.7.4"
  }
 },
 "nbformat": 4,
 "nbformat_minor": 2
}
