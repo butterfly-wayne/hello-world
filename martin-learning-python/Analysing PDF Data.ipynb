{
 "cells": [
  {
   "cell_type": "code",
   "execution_count": 11,
   "metadata": {
    "scrolled": true
   },
   "outputs": [],
   "source": [
    "#This is a library that allows us to do pdf stuff\n",
    "import PyPDF2 as pdf"
   ]
  },
  {
   "cell_type": "code",
   "execution_count": 12,
   "metadata": {},
   "outputs": [],
   "source": [
    "#Need to open the filepath before reading it in\n",
    "open_pdf=open(r\"C:/Users/user/github/hello-world/AWS Certified Cloud Practitioner.pdf\",'rb')"
   ]
  },
  {
   "cell_type": "code",
   "execution_count": 39,
   "metadata": {},
   "outputs": [
    {
     "name": "stdout",
     "output_type": "stream",
     "text": [
      "There are 2 pages.\n"
     ]
    }
   ],
   "source": [
    "#Now to actually read the pdf, and calculate how many pages there are \n",
    "pdf_file=pdf.PdfFileReader(open_pdf)\n",
    "pages=pdf_file.getNumPages()\n",
    "print(\"There are %i pages.\" % pages)"
   ]
  },
  {
   "cell_type": "code",
   "execution_count": 84,
   "metadata": {},
   "outputs": [],
   "source": [
    "text_extract=[]\n",
    "for page in range(pages):\n",
    "    extract1=pdf_file.getPage(page)\n",
    "    extract2=extract1.extractText()\n",
    "    text_extract.append(extract2)"
   ]
  },
  {
   "cell_type": "code",
   "execution_count": 85,
   "metadata": {},
   "outputs": [
    {
     "name": "stdout",
     "output_type": "stream",
     "text": [
      "['AWS Certified Cloud Practitioner Notice of Exam Results Candidate: Martin Shine Exam Date: Jan 02, 2020 Candidate ID: AWS01060468 Registration Number: 367577502 Candidate Score: 917 Pass/Fail: PASS The AWS Certified Cloud Practitioner (CLF-C01) has a scaled score between 100 and 1,000. The scaled score  needed to pass the exam is 700. Congratulations! You have successfully completed the AWS Certified Cloud Practitioner and you are now AWS  Certified. As a reminder, you are bound by the Candidate Code of Conduct you accepted when taking your exam, and  you are expected to keep the contents of the examination secure. If you have any questions or require  assistance, please  contact us . Congratulations again on your achievement and the ability to claim the associated benefits, such as access to  the AWS Certified  LinkedIn  Community, recognition at AWS events, and showcasing your achievement with  digital badges and the AWS Certified Logo. If you have any questions about the AWS Certification program, please  contact us  for assistance.  Thank you. ', 'AWS Certified Cloud Practitioner Breakdown of Exam Results The information in the table below details the composition of the AWS Certified Cloud Practitioner and your  performance in each of the exam sections. The table includes the classifications of your performance at each  section level . This information is designed to provide general feedback concerning your examination performance. The  examination is scored using a compensatory scoring model, which means you do not need to ﬁpassﬂ the  individual sections. Please keep in mind that each section has a specific weighting on the examination, so  some sections have more questions than others. This information is general in nature, highlighting your  strengths and weaknesses. Meets Competencies:  Performance at this level demonstrates knowledge, skills, and abilities expected of a  passing candidate. Needs Improvement:  Performance at this level does not demonstrate knowledge, skills, and abilities expected  of a passing candidate. Score Performance Section % of Scored  Items Needs  Improvement Meets  Competencies Domain 1: Cloud Concepts 28% Domain 2: Security and Compliance 24% Domain 3: Technology 36% Domain 4: Billing and Pricing 12% Disclaimer: AWS Certification exams are designed to make pass/fail decisions based on the total exam score. Section level results are  designed to provide direction on areas where a candidate may be weak. Candidates should exercise caution when interpreting the  above section level score information as it is less reliable than the total exam score. ']\n"
     ]
    }
   ],
   "source": [
    "#Convert list of text extracting to a string, do some data quality. \n",
    "doc_str=str(text_extract)\n",
    "doc_str=doc_str.replace(\"\\\\n\",\" \")\n",
    "doc_str=doc_str.replace(\"\\\\\",\" \")\n",
    "print(doc_str)"
   ]
  }
 ],
 "metadata": {
  "kernelspec": {
   "display_name": "Python 3",
   "language": "python",
   "name": "python3"
  },
  "language_info": {
   "codemirror_mode": {
    "name": "ipython",
    "version": 3
   },
   "file_extension": ".py",
   "mimetype": "text/x-python",
   "name": "python",
   "nbconvert_exporter": "python",
   "pygments_lexer": "ipython3",
   "version": "3.7.4"
  }
 },
 "nbformat": 4,
 "nbformat_minor": 2
}
