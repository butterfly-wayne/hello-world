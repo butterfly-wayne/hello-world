{
 "cells": [
  {
   "cell_type": "code",
   "execution_count": 19,
   "metadata": {},
   "outputs": [],
   "source": [
    "#Now we've extracted the text from a pdf, can we extract names and numbers?\n",
    "# nltk is a natural language processing toolkit, needs importing and downloading\n",
    "import re\n",
    "import nltk\n",
    "from nltk.corpus import stopwords\n",
    "#Now to bring in stopwords, these are words that can be ignored\n",
    "stop=stopwords.words('english')"
   ]
  },
  {
   "cell_type": "code",
   "execution_count": 5,
   "metadata": {},
   "outputs": [],
   "source": [
    "string=\"\"\"\n",
    "Hey John Dorian,\n",
    "I needed to make this made-up email, so I could learn to use the Natural Language Toolkit.\n",
    "If you have any questions go and talk to Bob Jones (07123456789 bob.jones@company.co.uk).\n",
    "\n",
    "Best wishes\n",
    "\n",
    "Martin Shine\n",
    "\"\"\""
   ]
  },
  {
   "cell_type": "code",
   "execution_count": 8,
   "metadata": {},
   "outputs": [],
   "source": [
    "#Create function to process document into sentences with each word tagged with its \"word type\"\n",
    "def process_doc(document):\n",
    "    document = ' '.join([i for i in document.split() if i not in stop])\n",
    "    sentences = nltk.sent_tokenize(document)\n",
    "    sentences = [nltk.word_tokenize(sent) for sent in sentences]\n",
    "    sentences = [nltk.pos_tag(sent) for sent in sentences]\n",
    "    return sentences"
   ]
  },
  {
   "cell_type": "code",
   "execution_count": 15,
   "metadata": {},
   "outputs": [],
   "source": [
    "#Create function which extracts all names from the text\n",
    "def extract_names(document):\n",
    "    names = []\n",
    "    sentences = process_doc(document)\n",
    "    for tagged_sentence in sentences:\n",
    "        for chunk in nltk.ne_chunk(tagged_sentence):\n",
    "            if type(chunk) == nltk.tree.Tree:\n",
    "                if chunk.label() == 'PERSON':\n",
    "                    names.append(' '.join([c[0] for c in chunk]))\n",
    "    return names"
   ]
  },
  {
   "cell_type": "code",
   "execution_count": 16,
   "metadata": {},
   "outputs": [],
   "source": [
    "#Function which extracts phone numbers from a string\n",
    "def extract_phone_numbers(string):\n",
    "    r = re.compile(r'(\\d{3}[-\\.\\s]??\\d{3}[-\\.\\s]??\\d{4}|\\(\\d{3}\\)\\s*\\d{3}[-\\.\\s]??\\d{4}|\\d{3}[-\\.\\s]??\\d{4})')\n",
    "    phone_numbers = r.findall(string)\n",
    "    return [re.sub(r'\\D', '', number) for number in phone_numbers]"
   ]
  },
  {
   "cell_type": "code",
   "execution_count": 17,
   "metadata": {},
   "outputs": [],
   "source": [
    "#Function which extracts emails from a string\n",
    "def extract_email_addresses(string):\n",
    "    r = re.compile(r'[\\w\\.-]+@[\\w\\.-]+')\n",
    "    return r.findall(string)"
   ]
  },
  {
   "cell_type": "code",
   "execution_count": 51,
   "metadata": {},
   "outputs": [
    {
     "name": "stdout",
     "output_type": "stream",
     "text": [
      "The list of numbers: ['0712345678'] \n",
      "The list of emails:['bob.jones@company.co.uk'] \n",
      "The list of names: ['John Dorian', 'Bob Jones', 'Martin Shine']\n"
     ]
    }
   ],
   "source": [
    "#Make a list of numbers, emails and names in relevant variables\n",
    "numbers = extract_phone_numbers(string)\n",
    "emails = extract_email_addresses(string)\n",
    "names = extract_names(string)\n",
    "print(\"The list of numbers: {} \\nThe list of emails:{} \\nThe list of names: {}\".format(numbers,emails,names))"
   ]
  }
 ],
 "metadata": {
  "kernelspec": {
   "display_name": "Python 3",
   "language": "python",
   "name": "python3"
  },
  "language_info": {
   "codemirror_mode": {
    "name": "ipython",
    "version": 3
   },
   "file_extension": ".py",
   "mimetype": "text/x-python",
   "name": "python",
   "nbconvert_exporter": "python",
   "pygments_lexer": "ipython3",
   "version": "3.7.4"
  }
 },
 "nbformat": 4,
 "nbformat_minor": 2
}
